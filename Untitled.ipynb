{
 "cells": [
  {
   "cell_type": "markdown",
   "id": "e7e80f0a",
   "metadata": {},
   "source": [
    "# Ejercicio 3: Torres de Hanoi\n",
    "\n",
    "El juego de las Torres de Hanoi consiste en tres estacas (izquierda, central y derecha) y n discos redondos de diferentes radios (perforados de forma que puedan encajar en las estacas). Inicialmente la estaca de la izquierda tiene todos los discos en orden creciente de tamaño de abajo hacia arriba.\n",
    "\n",
    "El objetivo del juego es mover todos los discos a la estaca de la derecha, usando la estaca central. En cada movimiento se desplaza el disco del extremo superior de una estaca a la otra, con la restricci ́on de que no esta ́ permitido que un disco de radio mayor quede encima de uno de radio menor.\n",
    "\n",
    "Tu tarea es encontrar la secuencia de pasos que minimice el nu ́mero de movimientos necesarios para cumplir el objetivo del juego. Es decir:\n",
    "\n",
    "**Entrada**\n",
    "\n",
    "Un valor entero positivo n (el numero de discos). \n",
    "\n",
    "**Salida**\n",
    "\n",
    "Imprime el entero k: el numero mınimo de movimientos.\n",
    "Posteriormente imprime k lıneas que describan la secuencia de movimientos. Cada lınea debe tener dos enteros, a y b, que indican el movimiento: mover el disco de la estaca a a la estaca b, con a, b ∈ 1, 2, 3. Se considera que 1 es el disco de la izquierda, 2 el central y 3 el de la derecha.\n",
    "\n",
    "1. Diseña un algoritmo que resuelva este problema y justifica (no es necesario escribir una demostracion) por que devuelve el numero mınimo de movimientos. Representalo en pseudocodigo o diagrama de flujo (**4 puntos**).\n",
    "\n",
    "2. Implementa el algoritmo en Julia. Tu programa sera aceptado si devuelve las respuestas correctas para cada n, con 1 ≤ n ≤ 16. (**6 puntos**)\n"
   ]
  },
  {
   "cell_type": "code",
   "execution_count": null,
   "id": "4839e5d4",
   "metadata": {},
   "outputs": [],
   "source": []
  },
  {
   "cell_type": "markdown",
   "id": "2cd262da",
   "metadata": {},
   "source": [
    "\n",
    " 1. Diseña un algoritmo que resuelva este problema y justifica (no es necesario escribir una demostracion) por que devuelve el numero mınimo de movimientos. Representalo en pseudocodigo o diagrama de flujo (4 puntos).\n",
    " \n",
    " \n",
    "En una investigacion podemos considerar que si tenemos un disco y los lineas \n",
    " Expresaremos el algotirmo como un pseudocodigo\n",
    " \n",
    "E\n",
    "    \n",
    "    "
   ]
  },
  {
   "cell_type": "code",
   "execution_count": 2,
   "id": "3f16644d",
   "metadata": {},
   "outputs": [
    {
     "ename": "LoadError",
     "evalue": "syntax: incomplete: \"function\" at In[2]:1 requires end",
     "output_type": "error",
     "traceback": [
      "syntax: incomplete: \"function\" at In[2]:1 requires end",
      "",
      "Stacktrace:",
      " [1] top-level scope",
      "   @ In[2]:1"
     ]
    }
   ],
   "source": [
    "function torre_hanoi(n, a, b, c)\n",
    "    \n",
    "if (n=1)\n",
    "    mover disco 1 de pila a a b \n",
    "    end"
   ]
  },
  {
   "cell_type": "code",
   "execution_count": 3,
   "id": "83087c22",
   "metadata": {},
   "outputs": [
    {
     "ename": "LoadError",
     "evalue": "syntax: unexpected \"=\"",
     "output_type": "error",
     "traceback": [
      "syntax: unexpected \"=\"",
      "",
      "Stacktrace:",
      " [1] top-level scope",
      "   @ In[3]:5"
     ]
    }
   ],
   "source": [
    "function torre_hanoi(n, a, b, c)\n",
    "    \n",
    "    \n",
    "if (n=1)\n",
    "    return = mover disco 1 de pila a a b \n",
    "    end"
   ]
  },
  {
   "cell_type": "code",
   "execution_count": 4,
   "id": "f3157e30",
   "metadata": {},
   "outputs": [
    {
     "data": {
      "text/plain": [
       "Fu2_derivar (generic function with 2 methods)"
      ]
     },
     "execution_count": 4,
     "metadata": {},
     "output_type": "execute_result"
    }
   ],
   "source": [
    "function Fu2_derivar(f::Function , u::Float64, h::Float64 = 0.000001)  #Se definen los parametros para la funcion principal.\n",
    "    \n",
    "    if Fu2_derivar(fa,u) == Inf\n",
    "         return println(\"error\")\n",
    "\n",
    "    else \n",
    "         return (fa(u+h) - fa(u))/ h \n",
    "        \n",
    "    end\n",
    "end\n",
    "\n"
   ]
  },
  {
   "cell_type": "code",
   "execution_count": 5,
   "id": "5c9f39ff",
   "metadata": {},
   "outputs": [
    {
     "ename": "LoadError",
     "evalue": "StackOverflowError:",
     "output_type": "error",
     "traceback": [
      "StackOverflowError:",
      "",
      "Stacktrace:",
      " [1] Fu2_derivar(f::Function, u::Float64) (repeats 79984 times)",
      "   @ Main ./In[4]:3"
     ]
    }
   ],
   "source": [
    "fa(x) = log(u)\n",
    "\n",
    "u = 0.0\n",
    "\n",
    "Fu2_derivar(fa,u)"
   ]
  }
 ],
 "metadata": {
  "kernelspec": {
   "display_name": "Julia 1.8.5",
   "language": "julia",
   "name": "julia-1.8"
  },
  "language_info": {
   "file_extension": ".jl",
   "mimetype": "application/julia",
   "name": "julia",
   "version": "1.8.5"
  }
 },
 "nbformat": 4,
 "nbformat_minor": 5
}
